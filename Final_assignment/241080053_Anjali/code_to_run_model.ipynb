{
  "cells": [
    {
      "cell_type": "markdown",
      "source": [
        "# **CODE FOR RUNNING THE TRAINED MODEL**"
      ],
      "metadata": {
        "id": "TVfU3xso3k-I"
      }
    },
    {
      "cell_type": "markdown",
      "source": [
        "### **Loading the necessary libraries**"
      ],
      "metadata": {
        "id": "IehJOQMK4UT6"
      }
    },
    {
      "cell_type": "code",
      "execution_count": null,
      "metadata": {
        "id": "Sjm1_zBXrLIa",
        "outputId": "3c4555d9-f140-48e3-af2b-57e46b67a6b8"
      },
      "outputs": [
        {
          "name": "stderr",
          "output_type": "stream",
          "text": [
            "<>:9: SyntaxWarning: invalid escape sequence '\\p'\n",
            "<>:9: SyntaxWarning: invalid escape sequence '\\p'\n",
            "C:\\Users\\user\\AppData\\Local\\Temp\\ipykernel_6308\\3517518888.py:9: SyntaxWarning: invalid escape sequence '\\p'\n",
            "  model = load_model('D:\\pixel persona\\gender_detection.keras')\n"
          ]
        }
      ],
      "source": [
        "import os\n",
        "import random\n",
        "from tensorflow.keras.models import load_model\n",
        "import numpy as np\n",
        "import cv2\n",
        "from tensorflow.keras.preprocessing.image import img_to_array\n",
        "\n",
        "# Load the trained model\n",
        "model = load_model('D:\\pixel persona\\gender_detection.keras')\n",
        "\n",
        "# Define the image dimensions\n",
        "img_dims = (96, 96)\n",
        "\n",
        "\n"
      ]
    },
    {
      "cell_type": "markdown",
      "source": [
        "### **Define the image dimensions**"
      ],
      "metadata": {
        "id": "X8wjfhwy4jBf"
      }
    },
    {
      "cell_type": "code",
      "source": [
        "img_dims = (96, 96)\n",
        "confidence_threshold = 0.6  # Minimum confidence to make a reliable prediction\n"
      ],
      "metadata": {
        "id": "n3-SONDH4xfV"
      },
      "execution_count": null,
      "outputs": []
    },
    {
      "cell_type": "markdown",
      "source": [
        "### **Function to preprocess the image**"
      ],
      "metadata": {
        "id": "_5Ile2ep45jO"
      }
    },
    {
      "cell_type": "code",
      "source": [
        "def preprocess_image(image_path):\n",
        "    try:\n",
        "        image = cv2.imread(image_path)  # Read the image\n",
        "        if image is None:\n",
        "            raise ValueError(\"Image not found or cannot be read.\")\n",
        "        image = cv2.resize(image, (img_dims[0], img_dims[1]))  # Resize to model's input dimensions\n",
        "        image = img_to_array(image)  # Convert to array\n",
        "        image = np.expand_dims(image, axis=0)  # Add batch dimension\n",
        "        image = image / 255.0  # Normalize pixel values\n",
        "        return image\n",
        "    except Exception as e:\n",
        "        print(f\"Error processing image {image_path}: {e}\")\n",
        "        return None\n"
      ],
      "metadata": {
        "id": "o2r6_uDN5Kpa"
      },
      "execution_count": null,
      "outputs": []
    },
    {
      "cell_type": "markdown",
      "source": [
        "### **Function to predict gender with debugging**"
      ],
      "metadata": {
        "id": "dFDpA8QO5GO9"
      }
    },
    {
      "cell_type": "code",
      "execution_count": null,
      "metadata": {
        "id": "CN9Y6CuVrLId",
        "outputId": "67e1dcf1-b03c-4604-9ecc-3701bf7b72fc"
      },
      "outputs": [
        {
          "name": "stdout",
          "output_type": "stream",
          "text": [
            "\u001b[1m1/1\u001b[0m \u001b[32m━━━━━━━━━━━━━━━━━━━━\u001b[0m\u001b[37m\u001b[0m \u001b[1m0s\u001b[0m 494ms/step\n",
            "Raw prediction for D:\\pixel persona\\Gender-Detection-master\\Gender-Detection-master\\gender_dataset_face\\woman\\face_714.jpg: [[6.057389e-07 9.999996e-01]]\n",
            "Image: D:\\pixel persona\\Gender-Detection-master\\Gender-Detection-master\\gender_dataset_face\\woman\\face_714.jpg\n",
            "Predicted Gender: Woman (Confidence: 100.00%)\n",
            "Prediction Probabilities: Man = 0.0000, Woman = 1.0000\n",
            "\u001b[1m1/1\u001b[0m \u001b[32m━━━━━━━━━━━━━━━━━━━━\u001b[0m\u001b[37m\u001b[0m \u001b[1m1s\u001b[0m 567ms/step\n",
            "Raw prediction for D:\\pixel persona\\Gender-Detection-master\\Gender-Detection-master\\gender_dataset_face\\woman\\face_214.jpg: [[0.00342657 0.99807876]]\n",
            "Image: D:\\pixel persona\\Gender-Detection-master\\Gender-Detection-master\\gender_dataset_face\\woman\\face_214.jpg\n",
            "Predicted Gender: Woman (Confidence: 99.81%)\n",
            "Prediction Probabilities: Man = 0.0034, Woman = 0.9981\n",
            "\u001b[1m1/1\u001b[0m \u001b[32m━━━━━━━━━━━━━━━━━━━━\u001b[0m\u001b[37m\u001b[0m \u001b[1m0s\u001b[0m 479ms/step\n",
            "Raw prediction for D:\\pixel persona\\Gender-Detection-master\\Gender-Detection-master\\gender_dataset_face\\woman\\face_355.jpg: [[0.01173113 0.99094796]]\n",
            "Image: D:\\pixel persona\\Gender-Detection-master\\Gender-Detection-master\\gender_dataset_face\\woman\\face_355.jpg\n",
            "Predicted Gender: Woman (Confidence: 99.09%)\n",
            "Prediction Probabilities: Man = 0.0117, Woman = 0.9909\n",
            "\u001b[1m1/1\u001b[0m \u001b[32m━━━━━━━━━━━━━━━━━━━━\u001b[0m\u001b[37m\u001b[0m \u001b[1m1s\u001b[0m 856ms/step\n",
            "Raw prediction for D:\\pixel persona\\Gender-Detection-master\\Gender-Detection-master\\gender_dataset_face\\man\\face_889.jpg: [[0.97936434 0.02133009]]\n",
            "Image: D:\\pixel persona\\Gender-Detection-master\\Gender-Detection-master\\gender_dataset_face\\man\\face_889.jpg\n",
            "Predicted Gender: Man (Confidence: 97.94%)\n",
            "Prediction Probabilities: Man = 0.9794, Woman = 0.0213\n",
            "\u001b[1m1/1\u001b[0m \u001b[32m━━━━━━━━━━━━━━━━━━━━\u001b[0m\u001b[37m\u001b[0m \u001b[1m1s\u001b[0m 602ms/step\n",
            "Raw prediction for D:\\pixel persona\\Gender-Detection-master\\Gender-Detection-master\\gender_dataset_face\\woman\\face_1148.jpg: [[2.675289e-07 9.999999e-01]]\n",
            "Image: D:\\pixel persona\\Gender-Detection-master\\Gender-Detection-master\\gender_dataset_face\\woman\\face_1148.jpg\n",
            "Predicted Gender: Woman (Confidence: 100.00%)\n",
            "Prediction Probabilities: Man = 0.0000, Woman = 1.0000\n",
            "\u001b[1m1/1\u001b[0m \u001b[32m━━━━━━━━━━━━━━━━━━━━\u001b[0m\u001b[37m\u001b[0m \u001b[1m0s\u001b[0m 453ms/step\n",
            "Raw prediction for D:\\pixel persona\\Gender-Detection-master\\Gender-Detection-master\\gender_dataset_face\\man\\face_117.jpg: [[9.999956e-01 4.677829e-06]]\n",
            "Image: D:\\pixel persona\\Gender-Detection-master\\Gender-Detection-master\\gender_dataset_face\\man\\face_117.jpg\n",
            "Predicted Gender: Man (Confidence: 100.00%)\n",
            "Prediction Probabilities: Man = 1.0000, Woman = 0.0000\n",
            "\u001b[1m1/1\u001b[0m \u001b[32m━━━━━━━━━━━━━━━━━━━━\u001b[0m\u001b[37m\u001b[0m \u001b[1m1s\u001b[0m 702ms/step\n",
            "Raw prediction for D:\\pixel persona\\Gender-Detection-master\\Gender-Detection-master\\gender_dataset_face\\man\\face_1096.jpg: [[9.9999994e-01 3.5415354e-08]]\n",
            "Image: D:\\pixel persona\\Gender-Detection-master\\Gender-Detection-master\\gender_dataset_face\\man\\face_1096.jpg\n",
            "Predicted Gender: Man (Confidence: 100.00%)\n",
            "Prediction Probabilities: Man = 1.0000, Woman = 0.0000\n",
            "\u001b[1m1/1\u001b[0m \u001b[32m━━━━━━━━━━━━━━━━━━━━\u001b[0m\u001b[37m\u001b[0m \u001b[1m0s\u001b[0m 415ms/step\n",
            "Raw prediction for D:\\pixel persona\\Gender-Detection-master\\Gender-Detection-master\\gender_dataset_face\\man\\face_676.jpg: [[0.75320965 0.3363309 ]]\n",
            "Image: D:\\pixel persona\\Gender-Detection-master\\Gender-Detection-master\\gender_dataset_face\\man\\face_676.jpg\n",
            "Predicted Gender: Man (Confidence: 75.32%)\n",
            "Prediction Probabilities: Man = 0.7532, Woman = 0.3363\n",
            "\u001b[1m1/1\u001b[0m \u001b[32m━━━━━━━━━━━━━━━━━━━━\u001b[0m\u001b[37m\u001b[0m \u001b[1m1s\u001b[0m 903ms/step\n",
            "Raw prediction for D:\\pixel persona\\Gender-Detection-master\\Gender-Detection-master\\gender_dataset_face\\man\\face_168.jpg: [[9.9999565e-01 6.0424150e-06]]\n",
            "Image: D:\\pixel persona\\Gender-Detection-master\\Gender-Detection-master\\gender_dataset_face\\man\\face_168.jpg\n",
            "Predicted Gender: Man (Confidence: 100.00%)\n",
            "Prediction Probabilities: Man = 1.0000, Woman = 0.0000\n",
            "\u001b[1m1/1\u001b[0m \u001b[32m━━━━━━━━━━━━━━━━━━━━\u001b[0m\u001b[37m\u001b[0m \u001b[1m1s\u001b[0m 695ms/step\n",
            "Raw prediction for D:\\pixel persona\\Gender-Detection-master\\Gender-Detection-master\\gender_dataset_face\\man\\face_1012.jpg: [[1.0000000e+00 7.4595565e-09]]\n",
            "Image: D:\\pixel persona\\Gender-Detection-master\\Gender-Detection-master\\gender_dataset_face\\man\\face_1012.jpg\n",
            "Predicted Gender: Man (Confidence: 100.00%)\n",
            "Prediction Probabilities: Man = 1.0000, Woman = 0.0000\n",
            "\u001b[1m1/1\u001b[0m \u001b[32m━━━━━━━━━━━━━━━━━━━━\u001b[0m\u001b[37m\u001b[0m \u001b[1m0s\u001b[0m 444ms/step\n",
            "Raw prediction for D:\\pixel persona\\Gender-Detection-master\\Gender-Detection-master\\gender_dataset_face\\man\\face_1172.jpg: [[9.9980521e-01 2.1951026e-04]]\n",
            "Image: D:\\pixel persona\\Gender-Detection-master\\Gender-Detection-master\\gender_dataset_face\\man\\face_1172.jpg\n",
            "Predicted Gender: Man (Confidence: 99.98%)\n",
            "Prediction Probabilities: Man = 0.9998, Woman = 0.0002\n",
            "\u001b[1m1/1\u001b[0m \u001b[32m━━━━━━━━━━━━━━━━━━━━\u001b[0m\u001b[37m\u001b[0m \u001b[1m1s\u001b[0m 604ms/step\n",
            "Raw prediction for D:\\pixel persona\\Gender-Detection-master\\Gender-Detection-master\\gender_dataset_face\\man\\face_115.jpg: [[0.9948501 0.0078708]]\n",
            "Image: D:\\pixel persona\\Gender-Detection-master\\Gender-Detection-master\\gender_dataset_face\\man\\face_115.jpg\n",
            "Predicted Gender: Man (Confidence: 99.49%)\n",
            "Prediction Probabilities: Man = 0.9949, Woman = 0.0079\n",
            "\u001b[1m1/1\u001b[0m \u001b[32m━━━━━━━━━━━━━━━━━━━━\u001b[0m\u001b[37m\u001b[0m \u001b[1m1s\u001b[0m 1s/step   \n",
            "Raw prediction for D:\\pixel persona\\Gender-Detection-master\\Gender-Detection-master\\gender_dataset_face\\man\\face_1328.jpg: [[0.99733955 0.00337817]]\n",
            "Image: D:\\pixel persona\\Gender-Detection-master\\Gender-Detection-master\\gender_dataset_face\\man\\face_1328.jpg\n",
            "Predicted Gender: Man (Confidence: 99.73%)\n",
            "Prediction Probabilities: Man = 0.9973, Woman = 0.0034\n",
            "\u001b[1m1/1\u001b[0m \u001b[32m━━━━━━━━━━━━━━━━━━━━\u001b[0m\u001b[37m\u001b[0m \u001b[1m1s\u001b[0m 1s/step   \n",
            "Raw prediction for D:\\pixel persona\\Gender-Detection-master\\Gender-Detection-master\\gender_dataset_face\\man\\face_254.jpg: [[0.42924485 0.54014397]]\n",
            "Image: D:\\pixel persona\\Gender-Detection-master\\Gender-Detection-master\\gender_dataset_face\\man\\face_254.jpg\n",
            "Predicted Gender: Uncertain (Confidence: 54.01%)\n",
            "Prediction Probabilities: Man = 0.4292, Woman = 0.5401\n",
            "\u001b[1m1/1\u001b[0m \u001b[32m━━━━━━━━━━━━━━━━━━━━\u001b[0m\u001b[37m\u001b[0m \u001b[1m1s\u001b[0m 535ms/step\n",
            "Raw prediction for D:\\pixel persona\\Gender-Detection-master\\Gender-Detection-master\\gender_dataset_face\\man\\face_592.jpg: [[9.9992377e-01 6.7325469e-05]]\n",
            "Image: D:\\pixel persona\\Gender-Detection-master\\Gender-Detection-master\\gender_dataset_face\\man\\face_592.jpg\n",
            "Predicted Gender: Man (Confidence: 99.99%)\n",
            "Prediction Probabilities: Man = 0.9999, Woman = 0.0001\n",
            "\u001b[1m1/1\u001b[0m \u001b[32m━━━━━━━━━━━━━━━━━━━━\u001b[0m\u001b[37m\u001b[0m \u001b[1m1s\u001b[0m 579ms/step\n",
            "Raw prediction for D:\\pixel persona\\Gender-Detection-master\\Gender-Detection-master\\gender_dataset_face\\woman\\face_1112.jpg: [[1.4982269e-04 9.9990302e-01]]\n",
            "Image: D:\\pixel persona\\Gender-Detection-master\\Gender-Detection-master\\gender_dataset_face\\woman\\face_1112.jpg\n",
            "Predicted Gender: Woman (Confidence: 99.99%)\n",
            "Prediction Probabilities: Man = 0.0001, Woman = 0.9999\n",
            "\u001b[1m1/1\u001b[0m \u001b[32m━━━━━━━━━━━━━━━━━━━━\u001b[0m\u001b[37m\u001b[0m \u001b[1m0s\u001b[0m 460ms/step\n",
            "Raw prediction for D:\\pixel persona\\Gender-Detection-master\\Gender-Detection-master\\gender_dataset_face\\woman\\face_468.jpg: [[0.00418099 0.9980567 ]]\n",
            "Image: D:\\pixel persona\\Gender-Detection-master\\Gender-Detection-master\\gender_dataset_face\\woman\\face_468.jpg\n",
            "Predicted Gender: Woman (Confidence: 99.81%)\n",
            "Prediction Probabilities: Man = 0.0042, Woman = 0.9981\n",
            "\u001b[1m1/1\u001b[0m \u001b[32m━━━━━━━━━━━━━━━━━━━━\u001b[0m\u001b[37m\u001b[0m \u001b[1m0s\u001b[0m 440ms/step\n",
            "Raw prediction for D:\\pixel persona\\Gender-Detection-master\\Gender-Detection-master\\gender_dataset_face\\man\\face_1522.jpg: [[9.9999386e-01 3.7092373e-06]]\n",
            "Image: D:\\pixel persona\\Gender-Detection-master\\Gender-Detection-master\\gender_dataset_face\\man\\face_1522.jpg\n",
            "Predicted Gender: Man (Confidence: 100.00%)\n",
            "Prediction Probabilities: Man = 1.0000, Woman = 0.0000\n",
            "\u001b[1m1/1\u001b[0m \u001b[32m━━━━━━━━━━━━━━━━━━━━\u001b[0m\u001b[37m\u001b[0m \u001b[1m0s\u001b[0m 444ms/step\n",
            "Raw prediction for D:\\pixel persona\\Gender-Detection-master\\Gender-Detection-master\\gender_dataset_face\\woman\\face_1033.jpg: [[3.6947364e-05 9.9996543e-01]]\n",
            "Image: D:\\pixel persona\\Gender-Detection-master\\Gender-Detection-master\\gender_dataset_face\\woman\\face_1033.jpg\n",
            "Predicted Gender: Woman (Confidence: 100.00%)\n",
            "Prediction Probabilities: Man = 0.0000, Woman = 1.0000\n",
            "\u001b[1m1/1\u001b[0m \u001b[32m━━━━━━━━━━━━━━━━━━━━\u001b[0m\u001b[37m\u001b[0m \u001b[1m0s\u001b[0m 418ms/step\n",
            "Raw prediction for D:\\pixel persona\\Gender-Detection-master\\Gender-Detection-master\\gender_dataset_face\\woman\\face_973.jpg: [[1.4059656e-04 9.9981862e-01]]\n",
            "Image: D:\\pixel persona\\Gender-Detection-master\\Gender-Detection-master\\gender_dataset_face\\woman\\face_973.jpg\n",
            "Predicted Gender: Woman (Confidence: 99.98%)\n",
            "Prediction Probabilities: Man = 0.0001, Woman = 0.9998\n",
            "\u001b[1m1/1\u001b[0m \u001b[32m━━━━━━━━━━━━━━━━━━━━\u001b[0m\u001b[37m\u001b[0m \u001b[1m2s\u001b[0m 2s/step\n",
            "Raw prediction for D:\\pixel persona\\Gender-Detection-master\\Gender-Detection-master\\gender_dataset_face\\man\\face_186.jpg: [[9.9997598e-01 3.0474986e-05]]\n",
            "Image: D:\\pixel persona\\Gender-Detection-master\\Gender-Detection-master\\gender_dataset_face\\man\\face_186.jpg\n",
            "Predicted Gender: Man (Confidence: 100.00%)\n",
            "Prediction Probabilities: Man = 1.0000, Woman = 0.0000\n",
            "\u001b[1m1/1\u001b[0m \u001b[32m━━━━━━━━━━━━━━━━━━━━\u001b[0m\u001b[37m\u001b[0m \u001b[1m1s\u001b[0m 550ms/step\n",
            "Raw prediction for D:\\pixel persona\\Gender-Detection-master\\Gender-Detection-master\\gender_dataset_face\\man\\face_36.jpg: [[0.99532163 0.00234446]]\n",
            "Image: D:\\pixel persona\\Gender-Detection-master\\Gender-Detection-master\\gender_dataset_face\\man\\face_36.jpg\n",
            "Predicted Gender: Man (Confidence: 99.53%)\n",
            "Prediction Probabilities: Man = 0.9953, Woman = 0.0023\n",
            "\u001b[1m1/1\u001b[0m \u001b[32m━━━━━━━━━━━━━━━━━━━━\u001b[0m\u001b[37m\u001b[0m \u001b[1m0s\u001b[0m 449ms/step\n",
            "Raw prediction for D:\\pixel persona\\Gender-Detection-master\\Gender-Detection-master\\gender_dataset_face\\man\\face_91.jpg: [[9.9999970e-01 2.0734655e-07]]\n",
            "Image: D:\\pixel persona\\Gender-Detection-master\\Gender-Detection-master\\gender_dataset_face\\man\\face_91.jpg\n",
            "Predicted Gender: Man (Confidence: 100.00%)\n",
            "Prediction Probabilities: Man = 1.0000, Woman = 0.0000\n",
            "\u001b[1m1/1\u001b[0m \u001b[32m━━━━━━━━━━━━━━━━━━━━\u001b[0m\u001b[37m\u001b[0m \u001b[1m1s\u001b[0m 553ms/step\n",
            "Raw prediction for D:\\pixel persona\\Gender-Detection-master\\Gender-Detection-master\\gender_dataset_face\\man\\face_355.jpg: [[9.9962497e-01 4.2590933e-04]]\n",
            "Image: D:\\pixel persona\\Gender-Detection-master\\Gender-Detection-master\\gender_dataset_face\\man\\face_355.jpg\n",
            "Predicted Gender: Man (Confidence: 99.96%)\n",
            "Prediction Probabilities: Man = 0.9996, Woman = 0.0004\n",
            "\u001b[1m1/1\u001b[0m \u001b[32m━━━━━━━━━━━━━━━━━━━━\u001b[0m\u001b[37m\u001b[0m \u001b[1m0s\u001b[0m 431ms/step\n",
            "Raw prediction for D:\\pixel persona\\Gender-Detection-master\\Gender-Detection-master\\gender_dataset_face\\man\\face_1270.jpg: [[0.9743891  0.02238608]]\n",
            "Image: D:\\pixel persona\\Gender-Detection-master\\Gender-Detection-master\\gender_dataset_face\\man\\face_1270.jpg\n",
            "Predicted Gender: Man (Confidence: 97.44%)\n",
            "Prediction Probabilities: Man = 0.9744, Woman = 0.0224\n",
            "\u001b[1m1/1\u001b[0m \u001b[32m━━━━━━━━━━━━━━━━━━━━\u001b[0m\u001b[37m\u001b[0m \u001b[1m0s\u001b[0m 490ms/step\n",
            "Raw prediction for D:\\pixel persona\\Gender-Detection-master\\Gender-Detection-master\\gender_dataset_face\\woman\\face_197.jpg: [[5.7525944e-05 9.9977487e-01]]\n",
            "Image: D:\\pixel persona\\Gender-Detection-master\\Gender-Detection-master\\gender_dataset_face\\woman\\face_197.jpg\n",
            "Predicted Gender: Woman (Confidence: 99.98%)\n",
            "Prediction Probabilities: Man = 0.0001, Woman = 0.9998\n",
            "\u001b[1m1/1\u001b[0m \u001b[32m━━━━━━━━━━━━━━━━━━━━\u001b[0m\u001b[37m\u001b[0m \u001b[1m1s\u001b[0m 642ms/step\n",
            "Raw prediction for D:\\pixel persona\\Gender-Detection-master\\Gender-Detection-master\\gender_dataset_face\\woman\\face_1075.jpg: [[8.4749845e-05 9.9996400e-01]]\n",
            "Image: D:\\pixel persona\\Gender-Detection-master\\Gender-Detection-master\\gender_dataset_face\\woman\\face_1075.jpg\n",
            "Predicted Gender: Woman (Confidence: 100.00%)\n",
            "Prediction Probabilities: Man = 0.0001, Woman = 1.0000\n",
            "\u001b[1m1/1\u001b[0m \u001b[32m━━━━━━━━━━━━━━━━━━━━\u001b[0m\u001b[37m\u001b[0m \u001b[1m1s\u001b[0m 512ms/step\n",
            "Raw prediction for D:\\pixel persona\\Gender-Detection-master\\Gender-Detection-master\\gender_dataset_face\\man\\face_1322.jpg: [[9.9934530e-01 8.5592666e-04]]\n",
            "Image: D:\\pixel persona\\Gender-Detection-master\\Gender-Detection-master\\gender_dataset_face\\man\\face_1322.jpg\n",
            "Predicted Gender: Man (Confidence: 99.93%)\n",
            "Prediction Probabilities: Man = 0.9993, Woman = 0.0009\n"
          ]
        },
        {
          "ename": "KeyboardInterrupt",
          "evalue": "",
          "output_type": "error",
          "traceback": [
            "\u001b[1;31m---------------------------------------------------------------------------\u001b[0m",
            "\u001b[1;31mKeyboardInterrupt\u001b[0m                         Traceback (most recent call last)",
            "Cell \u001b[1;32mIn[11], line 69\u001b[0m\n\u001b[0;32m     67\u001b[0m \u001b[38;5;66;03m# Specify the number of random images to process\u001b[39;00m\n\u001b[0;32m     68\u001b[0m num_images_to_process \u001b[38;5;241m=\u001b[39m \u001b[38;5;241m50\u001b[39m\n\u001b[1;32m---> 69\u001b[0m \u001b[43mprocess_random_images\u001b[49m\u001b[43m(\u001b[49m\u001b[43mimage_directory\u001b[49m\u001b[43m,\u001b[49m\u001b[43m \u001b[49m\u001b[43mnum_images_to_process\u001b[49m\u001b[43m)\u001b[49m\n",
            "Cell \u001b[1;32mIn[11], line 62\u001b[0m, in \u001b[0;36mprocess_random_images\u001b[1;34m(image_directory, num_images)\u001b[0m\n\u001b[0;32m     60\u001b[0m         text \u001b[38;5;241m=\u001b[39m \u001b[38;5;124mf\u001b[39m\u001b[38;5;124m\"\u001b[39m\u001b[38;5;132;01m{\u001b[39;00mlabel\u001b[38;5;132;01m}\u001b[39;00m\u001b[38;5;124m (\u001b[39m\u001b[38;5;132;01m{\u001b[39;00mconfidence\u001b[38;5;132;01m:\u001b[39;00m\u001b[38;5;124m.2f\u001b[39m\u001b[38;5;132;01m}\u001b[39;00m\u001b[38;5;124m%)\u001b[39m\u001b[38;5;124m\"\u001b[39m \u001b[38;5;28;01mif\u001b[39;00m label \u001b[38;5;241m!=\u001b[39m \u001b[38;5;124m\"\u001b[39m\u001b[38;5;124mUncertain\u001b[39m\u001b[38;5;124m\"\u001b[39m \u001b[38;5;28;01melse\u001b[39;00m \u001b[38;5;124m\"\u001b[39m\u001b[38;5;124mUncertain Prediction\u001b[39m\u001b[38;5;124m\"\u001b[39m\n\u001b[0;32m     61\u001b[0m         cv2\u001b[38;5;241m.\u001b[39mputText(image, text, (\u001b[38;5;241m10\u001b[39m, \u001b[38;5;241m30\u001b[39m), cv2\u001b[38;5;241m.\u001b[39mFONT_HERSHEY_SIMPLEX, \u001b[38;5;241m0.7\u001b[39m, (\u001b[38;5;241m0\u001b[39m, \u001b[38;5;241m255\u001b[39m, \u001b[38;5;241m0\u001b[39m), \u001b[38;5;241m2\u001b[39m)\n\u001b[1;32m---> 62\u001b[0m         \u001b[43mcv2\u001b[49m\u001b[38;5;241;43m.\u001b[39;49m\u001b[43mimshow\u001b[49m\u001b[43m(\u001b[49m\u001b[38;5;124;43m\"\u001b[39;49m\u001b[38;5;124;43mPrediction\u001b[39;49m\u001b[38;5;124;43m\"\u001b[39;49m\u001b[43m,\u001b[49m\u001b[43m \u001b[49m\u001b[43mimage\u001b[49m\u001b[43m)\u001b[49m\n\u001b[0;32m     63\u001b[0m         cv2\u001b[38;5;241m.\u001b[39mwaitKey(\u001b[38;5;241m0\u001b[39m)\n\u001b[0;32m     65\u001b[0m cv2\u001b[38;5;241m.\u001b[39mdestroyAllWindows()\n",
            "\u001b[1;31mKeyboardInterrupt\u001b[0m: "
          ]
        }
      ],
      "source": [
        "def predict_gender(image_path):\n",
        "    processed_image = preprocess_image(image_path)  # Preprocess the input image\n",
        "    if processed_image is None:\n",
        "        return None, None, None\n",
        "    prediction = model.predict(processed_image)  # Make prediction\n",
        "    print(f\"Raw prediction for {image_path}: {prediction}\")  # Debugging\n",
        "\n",
        "    # Extract probabilities\n",
        "    man_prob, woman_prob = prediction[0]\n",
        "    if max(man_prob, woman_prob) < confidence_threshold:\n",
        "        label = \"Uncertain\"\n",
        "        confidence = max(man_prob, woman_prob) * 100\n",
        "    else:\n",
        "        label = \"Woman\" if woman_prob > man_prob else \"Man\"\n",
        "        confidence = max(man_prob, woman_prob) * 100\n",
        "\n",
        "    return label, confidence, prediction[0]\n",
        "\n",
        "# Directory containing images\n",
        "image_directory = r\"D:\\pixel persona\\Gender-Detection-master\\Gender-Detection-master\\gender_dataset_face\"\n",
        "\n",
        "# Select random images and predict\n",
        "def process_random_images(image_directory, num_images):\n",
        "    image_files = [os.path.join(dp, f) for dp, dn, filenames in os.walk(image_directory) for f in filenames if not os.path.isdir(f)]\n",
        "    if len(image_files) < num_images:\n",
        "        print(f\"Not enough images in the directory. Found {len(image_files)}, requested {num_images}.\")\n",
        "        return\n",
        "\n",
        "    selected_images = random.sample(image_files, num_images)  # Select random images\n",
        "\n",
        "    for image_path in selected_images:\n",
        "        label, confidence, raw_prediction = predict_gender(image_path)\n",
        "        if label is not None:\n",
        "            print(f\"Image: {image_path}\")\n",
        "            print(f\"Predicted Gender: {label} (Confidence: {confidence:.2f}%)\")\n",
        "            print(f\"Prediction Probabilities: Man = {raw_prediction[0]:.4f}, Woman = {raw_prediction[1]:.4f}\")\n",
        "\n",
        "            # Display the image with prediction\n",
        "            image = cv2.imread(image_path)\n",
        "            text = f\"{label} ({confidence:.2f}%)\" if label != \"Uncertain\" else \"Uncertain Prediction\"\n",
        "            cv2.putText(image, text, (10, 30), cv2.FONT_HERSHEY_SIMPLEX, 0.7, (0, 255, 0), 2)\n",
        "            cv2.imshow(\"Prediction\", image)\n",
        "            cv2.waitKey(0)\n",
        "\n",
        "    cv2.destroyAllWindows()\n",
        "\n",
        "# Specify the number of random images to process\n",
        "num_images_to_process = 50\n",
        "process_random_images(image_directory, num_images_to_process)\n"
      ]
    }
  ],
  "metadata": {
    "kernelspec": {
      "display_name": "Python 3",
      "language": "python",
      "name": "python3"
    },
    "language_info": {
      "codemirror_mode": {
        "name": "ipython",
        "version": 3
      },
      "file_extension": ".py",
      "mimetype": "text/x-python",
      "name": "python",
      "nbconvert_exporter": "python",
      "pygments_lexer": "ipython3",
      "version": "3.12.5"
    },
    "colab": {
      "provenance": []
    }
  },
  "nbformat": 4,
  "nbformat_minor": 0
}